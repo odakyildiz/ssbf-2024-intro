{
 "cells": [
  {
   "cell_type": "markdown",
   "metadata": {},
   "source": [
    "# Sampling via Inversion"
   ]
  },
  {
   "cell_type": "markdown",
   "metadata": {},
   "source": [
    "A simple example of sampling via inversion will be given below.\n",
    "\n",
    "In the lecture we have derived the sampler for exponential distribution:\n",
    "\\begin{align*}\n",
    "p(x) = \\text{Exp}(x;\\lambda) = \\lambda e^{-\\lambda x}.\n",
    "\\end{align*}\n",
    "We calculate the CDF\n",
    "\\begin{align*}\n",
    "F_X(x) =& \\int_{0}^x p(x') \\mathrm{d} x', \\\\\n",
    "=& \\lambda \\int_0^x e^{-\\lambda x'} \\mathrm{d} x', \\\\\n",
    "=& {\\lambda} \\left[ -\\frac{1}{\\lambda} e^{- \\lambda x'}\\right]_{x' = 0}^x \\\\\n",
    "=& 1 - e^{-\\lambda x}.\n",
    "\\end{align*}\n",
    "Deriving the inverse:\n",
    "\\begin{align*}\n",
    "u =& 1 - e^{-\\lambda x}\\\\\n",
    "\\implies x =& -\\frac{1}{\\lambda} \\log (1 - u)\\\\\n",
    "\\implies F_X^{-1}(u) =& -\\lambda^{-1} \\log (1 - u).\n",
    "\\end{align*}\n",
    "which gives us the sampler:\n",
    "* Generate $u_i \\sim \\text{Unif}([0, 1])$\n",
    "* $x_i = -\\lambda^{-1} \\log (1 - u_i)$.\n",
    "\n",
    "Let us look at the code for this sampler.\n"
   ]
  },
  {
   "cell_type": "code",
   "execution_count": 1,
   "metadata": {},
   "outputs": [
    {
     "data": {
      "image/png": "[encoded data removed]",
      "text/plain": [
       "<Figure size 720x360 with 2 Axes>"
      ]
     },
     "metadata": {
      "needs_background": "light"
     },
     "output_type": "display_data"
    }
   ],
   "source": [
    "import numpy as np\n",
    "import matplotlib.pyplot as plt\n",
    "\n",
    "rng = np.random.default_rng(10)\n",
    "\n",
    "def exponential_pdf(x, lam):\n",
    "    return lam * np.exp(-lam * x)\n",
    "\n",
    "def exponential_cdf(x, lam):\n",
    "    return 1 - np.exp(-lam * x)\n",
    "\n",
    "# an illustration of inverse transform sampling for the exponential distribution\n",
    "# with parameter lambda = 4\n",
    "lam = 4\n",
    "N = 50000\n",
    "\n",
    "x = np.array([])\n",
    "un = []\n",
    "for n in range(N):\n",
    "    u = rng.uniform(0, 1)\n",
    "    un.append(u)\n",
    "    x = np.append(x, -np.log(1 - u) / lam)\n",
    "\n",
    "fig = plt.figure(figsize=(10, 5))\n",
    "axs = fig.subplots(1, 2)\n",
    "\n",
    "# plot u on the y axis\n",
    "xx = np.linspace(0, 2, 100)\n",
    "axs[0].hist(un, bins=50, density=True, color='k') # histogram of uniforms\n",
    "axs[0].set_title(\"Histogram of Uniforms\")\n",
    "axs[1].hist(x, bins=50, density=True, color='k') # histogram of exponentials\n",
    "axs[1].plot(xx, exponential_pdf(xx, lam), color=[0.8, 0, 0], linewidth=2) # plot the pdf\n",
    "axs[1].set_xlim(0, 2)\n",
    "axs[1].set_title(\"Histogram of Exponentials\")\n",
    "plt.show()"
   ]
  }
 ],
 "metadata": {
  "kernelspec": {
   "display_name": "Python 3",
   "language": "python",
   "name": "python3"
  },
  "language_info": {
   "codemirror_mode": {
    "name": "ipython",
    "version": 3
   },
   "file_extension": ".py",
   "mimetype": "text/x-python",
   "name": "python",
   "nbconvert_exporter": "python",
   "pygments_lexer": "ipython3",
   "version": "3.9.18"
  },
  "widgets": {
   "application/vnd.jupyter.widget-state+json": {
    "state": {},
    "version_major": 2,
    "version_minor": 0
   }
  }
 },
 "nbformat": 4,
 "nbformat_minor": 4
}